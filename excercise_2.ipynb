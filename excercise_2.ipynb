from dotenv import load_dotenv
load_dotenv()
import os

os.environ["OPENAI_API_KEY"] = os.getenv("OPENAI_API_KEY")

from typing import Annotated, TypedDict
from langgraph.graph import StateGraph, START, END
from langgraph.graph.message import add_messages

# GraphState 요소는 상태를 전달하는 용도로 사용됩니다.
class State(TypedDict):
    # 메시지 정의(list type 이며 add_messages 함수를 사용하여 메시지를 추가)
    messages: Annotated[list, add_messages]
    node_ids: list[str]

# Node 정의

from langchain_openai import ChatOpenAI

# LLM 정의
llm = ChatOpenAI(model="gpt-4o-mini", temperature=0)

def task_a(state: State):
    # 메시지 호출 및 반환
    #messages = llm.invoke(state["messages"])
    node_ids = []
    node_ids.append("I am Node A")
    print(node_ids)
    #return {"node_ids": node_ids}
    return state

def task_b(state: State):
    node_ids = state["node_ids"]
    node_ids.append("I am Node B")
    print(node_ids)
    return state

def task_c(state: State):
    node_ids = state["node_ids"]
    node_ids.append("I am Node C")
    print(node_ids)
    return state

def task_d(state: State):
    node_ids = state["node_ids"]
    print(node_ids)
    node_ids.append("I am Node D")
    return state
# Graph 정의
from langgraph.graph import START, END, StateGraph
from langgraph.checkpoint.memory import MemorySaver


# langgraph.graph에서 StateGraph와 END를 가져옵니다.
workflow = StateGraph(State)

# Todo 를 작성합니다.
workflow.add_node("a", task_a)  # 에이전트 노드를 추가합니다.

# Todo 작업을 시작합니다.
workflow.add_node("b", task_b)

# 작업을 진행합니다.
workflow.add_node("c", task_c)

# 작업을 중간 체크합니다.
workflow.add_node("d", task_d)

# 각 노드들을 연결합니다.
workflow.add_edge("a", "b")
workflow.add_edge("b", "c")
workflow.add_edge("c", "d")
workflow.add_edge("d", END)

# 시작점을 설정합니다.
workflow.set_entry_point("a")

# 기록을 위한 메모리 저장소를 설정합니다.
#memory = MemorySaver()

# 그래프를 컴파일합니다.
app = workflow.compile()

# Visualize the Graph

from IPython.display import Image, display

try:
    display(
        Image(app.get_graph(xray=True).draw_mermaid_png())
    )  # 실행 가능한 객체의 그래프를 mermaid 형식의 PNG로 그려서 표시합니다. 
       # xray=True는 추가적인 세부 정보를 포함합니다.
except:
    # 이 부분은 추가적인 의존성이 필요하며 선택적으로 실행됩니다.
    pass

# Simple Start
app.invoke({"node_ids": ["Hello"]})

# Start with Question
question = "서울의 유명한 맛집 TOP 10 추천해줘"

# 그래프 이벤트 스트리밍
response = app.invoke({"messages": [("user", question)]})

response
